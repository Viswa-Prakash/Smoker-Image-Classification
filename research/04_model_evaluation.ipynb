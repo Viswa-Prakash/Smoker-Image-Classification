{
 "cells": [
  {
   "cell_type": "code",
   "execution_count": 1,
   "id": "abdb6ecb",
   "metadata": {},
   "outputs": [
    {
     "data": {
      "text/plain": [
       "'c:\\\\Users\\\\viswa\\\\Documents\\\\MLOPs\\\\Smoker-Image-Classification'"
      ]
     },
     "execution_count": 1,
     "metadata": {},
     "output_type": "execute_result"
    }
   ],
   "source": [
    "import os\n",
    "os.chdir(\"../\")\n",
    "%pwd"
   ]
  },
  {
   "cell_type": "code",
   "execution_count": 2,
   "id": "2e750fe6",
   "metadata": {},
   "outputs": [],
   "source": [
    "import tensorflow as tf"
   ]
  },
  {
   "cell_type": "code",
   "execution_count": 3,
   "id": "dd9959b0",
   "metadata": {},
   "outputs": [],
   "source": [
    "model = tf.keras.models.load_model(\"artifacts/training/model.h5\")"
   ]
  },
  {
   "cell_type": "code",
   "execution_count": 4,
   "id": "68ed893e",
   "metadata": {},
   "outputs": [],
   "source": [
    "from dataclasses import dataclass\n",
    "from pathlib import Path\n",
    "\n",
    "@dataclass(frozen=True)\n",
    "class EvaluationConfig:\n",
    "    path_of_model : Path\n",
    "    training_data : Path\n",
    "    all_params : dict\n",
    "    mlflow_uri : str\n",
    "    params_image_size : list\n",
    "    params_batch_size : int"
   ]
  },
  {
   "cell_type": "code",
   "execution_count": 5,
   "id": "713177c7",
   "metadata": {},
   "outputs": [],
   "source": [
    "from cnnClassifier.constants import *\n",
    "from cnnClassifier.utils.common import read_yaml, create_directories, save_json"
   ]
  },
  {
   "cell_type": "code",
   "execution_count": 13,
   "id": "ff694c2d",
   "metadata": {},
   "outputs": [],
   "source": [
    "class ConfigurationManager:\n",
    "    def __init__(\n",
    "        self,\n",
    "        config_filepath = CONFIG_FILE_PATH,\n",
    "        params_filepath = PARAMS_FILE_PATH):\n",
    "\n",
    "        self.config = read_yaml(config_filepath)\n",
    "        self.params = read_yaml(params_filepath)\n",
    "\n",
    "        create_directories([self.config.artifacts_root])\n",
    "\n",
    "    def get_evaluation_config(self) -> EvaluationConfig:\n",
    "        eval_config = EvaluationConfig(\n",
    "            path_of_model = \"artifacts/training/model.h5\",\n",
    "            training_data = \"artifacts/data_ingestion/Smoker-Image-classification\",\n",
    "            mlflow_uri = \"https://dagshub.com/Viswa-Prakash/Smoker-Image-Classification.mlflow\",\n",
    "            all_params = self.params,\n",
    "            params_image_size = self.params.IMAGE_SIZE,\n",
    "            params_batch_size = self.params.BATCH_SIZE\n",
    "        )\n",
    "\n",
    "        return eval_config"
   ]
  },
  {
   "cell_type": "code",
   "execution_count": 7,
   "id": "a7dceb63",
   "metadata": {},
   "outputs": [
    {
     "name": "stdout",
     "output_type": "stream",
     "text": [
      "Requirement already satisfied: mlflow in c:\\users\\viswa\\anaconda3\\envs\\cnnsmoker\\lib\\site-packages (2.2.2)\n",
      "Requirement already satisfied: dagshub in c:\\users\\viswa\\anaconda3\\envs\\cnnsmoker\\lib\\site-packages (0.5.10)\n",
      "Requirement already satisfied: click<9,>=7.0 in c:\\users\\viswa\\anaconda3\\envs\\cnnsmoker\\lib\\site-packages (from mlflow) (8.2.1)\n",
      "Requirement already satisfied: cloudpickle<3 in c:\\users\\viswa\\anaconda3\\envs\\cnnsmoker\\lib\\site-packages (from mlflow) (2.2.1)\n",
      "Requirement already satisfied: databricks-cli<1,>=0.8.7 in c:\\users\\viswa\\anaconda3\\envs\\cnnsmoker\\lib\\site-packages (from mlflow) (0.18.0)\n",
      "Requirement already satisfied: entrypoints<1 in c:\\users\\viswa\\anaconda3\\envs\\cnnsmoker\\lib\\site-packages (from mlflow) (0.4)\n",
      "Requirement already satisfied: gitpython<4,>=2.1.0 in c:\\users\\viswa\\anaconda3\\envs\\cnnsmoker\\lib\\site-packages (from mlflow) (3.1.44)\n",
      "Requirement already satisfied: pyyaml<7,>=5.1 in c:\\users\\viswa\\anaconda3\\envs\\cnnsmoker\\lib\\site-packages (from mlflow) (6.0.2)\n",
      "Requirement already satisfied: protobuf<5,>=3.12.0 in c:\\users\\viswa\\anaconda3\\envs\\cnnsmoker\\lib\\site-packages (from mlflow) (4.25.8)\n",
      "Requirement already satisfied: pytz<2023 in c:\\users\\viswa\\anaconda3\\envs\\cnnsmoker\\lib\\site-packages (from mlflow) (2022.7.1)\n",
      "Requirement already satisfied: requests<3,>=2.17.3 in c:\\users\\viswa\\anaconda3\\envs\\cnnsmoker\\lib\\site-packages (from mlflow) (2.32.4)\n",
      "Requirement already satisfied: packaging<24 in c:\\users\\viswa\\anaconda3\\envs\\cnnsmoker\\lib\\site-packages (from mlflow) (23.2)\n",
      "Requirement already satisfied: importlib-metadata!=4.7.0,<7,>=3.7.0 in c:\\users\\viswa\\anaconda3\\envs\\cnnsmoker\\lib\\site-packages (from mlflow) (6.11.0)\n",
      "Requirement already satisfied: sqlparse<1,>=0.4.0 in c:\\users\\viswa\\anaconda3\\envs\\cnnsmoker\\lib\\site-packages (from mlflow) (0.5.3)\n",
      "Requirement already satisfied: alembic<2 in c:\\users\\viswa\\anaconda3\\envs\\cnnsmoker\\lib\\site-packages (from mlflow) (1.16.1)\n",
      "Requirement already satisfied: docker<7,>=4.0.0 in c:\\users\\viswa\\anaconda3\\envs\\cnnsmoker\\lib\\site-packages (from mlflow) (6.1.3)\n",
      "Requirement already satisfied: Flask<3 in c:\\users\\viswa\\anaconda3\\envs\\cnnsmoker\\lib\\site-packages (from mlflow) (2.3.3)\n",
      "Requirement already satisfied: numpy<2 in c:\\users\\viswa\\anaconda3\\envs\\cnnsmoker\\lib\\site-packages (from mlflow) (1.23.5)\n",
      "Requirement already satisfied: scipy<2 in c:\\users\\viswa\\anaconda3\\envs\\cnnsmoker\\lib\\site-packages (from mlflow) (1.15.3)\n",
      "Requirement already satisfied: pandas<3 in c:\\users\\viswa\\anaconda3\\envs\\cnnsmoker\\lib\\site-packages (from mlflow) (2.3.0)\n",
      "Requirement already satisfied: querystring-parser<2 in c:\\users\\viswa\\anaconda3\\envs\\cnnsmoker\\lib\\site-packages (from mlflow) (1.2.4)\n",
      "Requirement already satisfied: sqlalchemy<3,>=1.4.0 in c:\\users\\viswa\\anaconda3\\envs\\cnnsmoker\\lib\\site-packages (from mlflow) (2.0.41)\n",
      "Requirement already satisfied: scikit-learn<2 in c:\\users\\viswa\\anaconda3\\envs\\cnnsmoker\\lib\\site-packages (from mlflow) (1.7.0)\n",
      "Requirement already satisfied: pyarrow<12,>=4.0.0 in c:\\users\\viswa\\anaconda3\\envs\\cnnsmoker\\lib\\site-packages (from mlflow) (11.0.0)\n",
      "Requirement already satisfied: shap<1,>=0.40 in c:\\users\\viswa\\anaconda3\\envs\\cnnsmoker\\lib\\site-packages (from mlflow) (0.47.2)\n",
      "Requirement already satisfied: markdown<4,>=3.3 in c:\\users\\viswa\\anaconda3\\envs\\cnnsmoker\\lib\\site-packages (from mlflow) (3.8)\n",
      "Requirement already satisfied: matplotlib<4 in c:\\users\\viswa\\anaconda3\\envs\\cnnsmoker\\lib\\site-packages (from mlflow) (3.10.3)\n",
      "Requirement already satisfied: waitress<3 in c:\\users\\viswa\\anaconda3\\envs\\cnnsmoker\\lib\\site-packages (from mlflow) (2.1.2)\n",
      "Requirement already satisfied: Jinja2<4,>=3.0 in c:\\users\\viswa\\anaconda3\\envs\\cnnsmoker\\lib\\site-packages (from mlflow) (3.1.6)\n",
      "Requirement already satisfied: Mako in c:\\users\\viswa\\anaconda3\\envs\\cnnsmoker\\lib\\site-packages (from alembic<2->mlflow) (1.3.10)\n",
      "Requirement already satisfied: typing-extensions>=4.12 in c:\\users\\viswa\\anaconda3\\envs\\cnnsmoker\\lib\\site-packages (from alembic<2->mlflow) (4.14.0)\n",
      "Requirement already satisfied: tomli in c:\\users\\viswa\\anaconda3\\envs\\cnnsmoker\\lib\\site-packages (from alembic<2->mlflow) (2.2.1)\n",
      "Requirement already satisfied: colorama in c:\\users\\viswa\\anaconda3\\envs\\cnnsmoker\\lib\\site-packages (from click<9,>=7.0->mlflow) (0.4.6)\n",
      "Requirement already satisfied: pyjwt>=1.7.0 in c:\\users\\viswa\\anaconda3\\envs\\cnnsmoker\\lib\\site-packages (from databricks-cli<1,>=0.8.7->mlflow) (2.10.1)\n",
      "Requirement already satisfied: oauthlib>=3.1.0 in c:\\users\\viswa\\anaconda3\\envs\\cnnsmoker\\lib\\site-packages (from databricks-cli<1,>=0.8.7->mlflow) (3.2.2)\n",
      "Requirement already satisfied: tabulate>=0.7.7 in c:\\users\\viswa\\anaconda3\\envs\\cnnsmoker\\lib\\site-packages (from databricks-cli<1,>=0.8.7->mlflow) (0.9.0)\n",
      "Requirement already satisfied: six>=1.10.0 in c:\\users\\viswa\\anaconda3\\envs\\cnnsmoker\\lib\\site-packages (from databricks-cli<1,>=0.8.7->mlflow) (1.17.0)\n",
      "Requirement already satisfied: urllib3<3,>=1.26.7 in c:\\users\\viswa\\anaconda3\\envs\\cnnsmoker\\lib\\site-packages (from databricks-cli<1,>=0.8.7->mlflow) (2.4.0)\n",
      "Requirement already satisfied: websocket-client>=0.32.0 in c:\\users\\viswa\\anaconda3\\envs\\cnnsmoker\\lib\\site-packages (from docker<7,>=4.0.0->mlflow) (1.8.0)\n",
      "Requirement already satisfied: pywin32>=304 in c:\\users\\viswa\\anaconda3\\envs\\cnnsmoker\\lib\\site-packages (from docker<7,>=4.0.0->mlflow) (310)\n",
      "Requirement already satisfied: Werkzeug>=2.3.7 in c:\\users\\viswa\\anaconda3\\envs\\cnnsmoker\\lib\\site-packages (from Flask<3->mlflow) (3.1.3)\n",
      "Requirement already satisfied: itsdangerous>=2.1.2 in c:\\users\\viswa\\anaconda3\\envs\\cnnsmoker\\lib\\site-packages (from Flask<3->mlflow) (2.2.0)\n",
      "Requirement already satisfied: blinker>=1.6.2 in c:\\users\\viswa\\anaconda3\\envs\\cnnsmoker\\lib\\site-packages (from Flask<3->mlflow) (1.9.0)\n",
      "Requirement already satisfied: gitdb<5,>=4.0.1 in c:\\users\\viswa\\anaconda3\\envs\\cnnsmoker\\lib\\site-packages (from gitpython<4,>=2.1.0->mlflow) (4.0.12)\n",
      "Requirement already satisfied: smmap<6,>=3.0.1 in c:\\users\\viswa\\anaconda3\\envs\\cnnsmoker\\lib\\site-packages (from gitdb<5,>=4.0.1->gitpython<4,>=2.1.0->mlflow) (5.0.2)\n",
      "Requirement already satisfied: zipp>=0.5 in c:\\users\\viswa\\anaconda3\\envs\\cnnsmoker\\lib\\site-packages (from importlib-metadata!=4.7.0,<7,>=3.7.0->mlflow) (3.23.0)\n",
      "Requirement already satisfied: MarkupSafe>=2.0 in c:\\users\\viswa\\anaconda3\\envs\\cnnsmoker\\lib\\site-packages (from Jinja2<4,>=3.0->mlflow) (3.0.2)\n",
      "Requirement already satisfied: contourpy>=1.0.1 in c:\\users\\viswa\\anaconda3\\envs\\cnnsmoker\\lib\\site-packages (from matplotlib<4->mlflow) (1.3.2)\n",
      "Requirement already satisfied: cycler>=0.10 in c:\\users\\viswa\\anaconda3\\envs\\cnnsmoker\\lib\\site-packages (from matplotlib<4->mlflow) (0.12.1)\n",
      "Requirement already satisfied: fonttools>=4.22.0 in c:\\users\\viswa\\anaconda3\\envs\\cnnsmoker\\lib\\site-packages (from matplotlib<4->mlflow) (4.58.2)\n",
      "Requirement already satisfied: kiwisolver>=1.3.1 in c:\\users\\viswa\\anaconda3\\envs\\cnnsmoker\\lib\\site-packages (from matplotlib<4->mlflow) (1.4.8)\n",
      "Requirement already satisfied: pillow>=8 in c:\\users\\viswa\\anaconda3\\envs\\cnnsmoker\\lib\\site-packages (from matplotlib<4->mlflow) (11.2.1)\n",
      "Requirement already satisfied: pyparsing>=2.3.1 in c:\\users\\viswa\\anaconda3\\envs\\cnnsmoker\\lib\\site-packages (from matplotlib<4->mlflow) (3.2.3)\n",
      "Requirement already satisfied: python-dateutil>=2.7 in c:\\users\\viswa\\anaconda3\\envs\\cnnsmoker\\lib\\site-packages (from matplotlib<4->mlflow) (2.9.0.post0)\n",
      "Requirement already satisfied: tzdata>=2022.7 in c:\\users\\viswa\\anaconda3\\envs\\cnnsmoker\\lib\\site-packages (from pandas<3->mlflow) (2025.2)\n",
      "Requirement already satisfied: charset_normalizer<4,>=2 in c:\\users\\viswa\\anaconda3\\envs\\cnnsmoker\\lib\\site-packages (from requests<3,>=2.17.3->mlflow) (3.4.2)\n",
      "Requirement already satisfied: idna<4,>=2.5 in c:\\users\\viswa\\anaconda3\\envs\\cnnsmoker\\lib\\site-packages (from requests<3,>=2.17.3->mlflow) (3.10)\n",
      "Requirement already satisfied: certifi>=2017.4.17 in c:\\users\\viswa\\anaconda3\\envs\\cnnsmoker\\lib\\site-packages (from requests<3,>=2.17.3->mlflow) (2025.4.26)\n",
      "Requirement already satisfied: joblib>=1.2.0 in c:\\users\\viswa\\anaconda3\\envs\\cnnsmoker\\lib\\site-packages (from scikit-learn<2->mlflow) (1.5.1)\n",
      "Requirement already satisfied: threadpoolctl>=3.1.0 in c:\\users\\viswa\\anaconda3\\envs\\cnnsmoker\\lib\\site-packages (from scikit-learn<2->mlflow) (3.6.0)\n",
      "Requirement already satisfied: tqdm>=4.27.0 in c:\\users\\viswa\\anaconda3\\envs\\cnnsmoker\\lib\\site-packages (from shap<1,>=0.40->mlflow) (4.67.1)\n",
      "Requirement already satisfied: slicer==0.0.8 in c:\\users\\viswa\\anaconda3\\envs\\cnnsmoker\\lib\\site-packages (from shap<1,>=0.40->mlflow) (0.0.8)\n",
      "Requirement already satisfied: numba>=0.54 in c:\\users\\viswa\\anaconda3\\envs\\cnnsmoker\\lib\\site-packages (from shap<1,>=0.40->mlflow) (0.60.0)\n",
      "Requirement already satisfied: greenlet>=1 in c:\\users\\viswa\\anaconda3\\envs\\cnnsmoker\\lib\\site-packages (from sqlalchemy<3,>=1.4.0->mlflow) (3.2.3)\n",
      "Requirement already satisfied: appdirs>=1.4.4 in c:\\users\\viswa\\anaconda3\\envs\\cnnsmoker\\lib\\site-packages (from dagshub) (1.4.4)\n",
      "Requirement already satisfied: httpx>=0.23.0 in c:\\users\\viswa\\anaconda3\\envs\\cnnsmoker\\lib\\site-packages (from dagshub) (0.28.1)\n",
      "Requirement already satisfied: rich>=13.1.0 in c:\\users\\viswa\\anaconda3\\envs\\cnnsmoker\\lib\\site-packages (from dagshub) (14.0.0)\n",
      "Requirement already satisfied: dacite~=1.6.0 in c:\\users\\viswa\\anaconda3\\envs\\cnnsmoker\\lib\\site-packages (from dagshub) (1.6.0)\n",
      "Requirement already satisfied: tenacity>=8.2.2 in c:\\users\\viswa\\anaconda3\\envs\\cnnsmoker\\lib\\site-packages (from dagshub) (9.1.2)\n",
      "Requirement already satisfied: gql[requests] in c:\\users\\viswa\\anaconda3\\envs\\cnnsmoker\\lib\\site-packages (from dagshub) (3.5.3)\n",
      "Requirement already satisfied: dataclasses-json in c:\\users\\viswa\\anaconda3\\envs\\cnnsmoker\\lib\\site-packages (from dagshub) (0.6.7)\n",
      "Requirement already satisfied: treelib>=1.6.4 in c:\\users\\viswa\\anaconda3\\envs\\cnnsmoker\\lib\\site-packages (from dagshub) (1.7.1)\n",
      "Requirement already satisfied: pathvalidate>=3.0.0 in c:\\users\\viswa\\anaconda3\\envs\\cnnsmoker\\lib\\site-packages (from dagshub) (3.2.3)\n",
      "Requirement already satisfied: boto3 in c:\\users\\viswa\\anaconda3\\envs\\cnnsmoker\\lib\\site-packages (from dagshub) (1.38.35)\n",
      "Requirement already satisfied: semver in c:\\users\\viswa\\anaconda3\\envs\\cnnsmoker\\lib\\site-packages (from dagshub) (3.0.4)\n",
      "Requirement already satisfied: dagshub-annotation-converter>=0.1.5 in c:\\users\\viswa\\anaconda3\\envs\\cnnsmoker\\lib\\site-packages (from dagshub) (0.1.10)\n",
      "Requirement already satisfied: lxml in c:\\users\\viswa\\anaconda3\\envs\\cnnsmoker\\lib\\site-packages (from dagshub-annotation-converter>=0.1.5->dagshub) (5.4.0)\n",
      "Requirement already satisfied: pydantic>=2.0.0 in c:\\users\\viswa\\anaconda3\\envs\\cnnsmoker\\lib\\site-packages (from dagshub-annotation-converter>=0.1.5->dagshub) (2.11.5)\n",
      "Requirement already satisfied: anyio in c:\\users\\viswa\\anaconda3\\envs\\cnnsmoker\\lib\\site-packages (from httpx>=0.23.0->dagshub) (4.9.0)\n",
      "Requirement already satisfied: httpcore==1.* in c:\\users\\viswa\\anaconda3\\envs\\cnnsmoker\\lib\\site-packages (from httpx>=0.23.0->dagshub) (1.0.9)\n",
      "Requirement already satisfied: h11>=0.16 in c:\\users\\viswa\\anaconda3\\envs\\cnnsmoker\\lib\\site-packages (from httpcore==1.*->httpx>=0.23.0->dagshub) (0.16.0)\n",
      "Requirement already satisfied: llvmlite<0.44,>=0.43.0dev0 in c:\\users\\viswa\\anaconda3\\envs\\cnnsmoker\\lib\\site-packages (from numba>=0.54->shap<1,>=0.40->mlflow) (0.43.0)\n",
      "Requirement already satisfied: annotated-types>=0.6.0 in c:\\users\\viswa\\anaconda3\\envs\\cnnsmoker\\lib\\site-packages (from pydantic>=2.0.0->dagshub-annotation-converter>=0.1.5->dagshub) (0.7.0)\n",
      "Requirement already satisfied: pydantic-core==2.33.2 in c:\\users\\viswa\\anaconda3\\envs\\cnnsmoker\\lib\\site-packages (from pydantic>=2.0.0->dagshub-annotation-converter>=0.1.5->dagshub) (2.33.2)\n",
      "Requirement already satisfied: typing-inspection>=0.4.0 in c:\\users\\viswa\\anaconda3\\envs\\cnnsmoker\\lib\\site-packages (from pydantic>=2.0.0->dagshub-annotation-converter>=0.1.5->dagshub) (0.4.1)\n",
      "Requirement already satisfied: markdown-it-py>=2.2.0 in c:\\users\\viswa\\anaconda3\\envs\\cnnsmoker\\lib\\site-packages (from rich>=13.1.0->dagshub) (3.0.0)\n",
      "Requirement already satisfied: pygments<3.0.0,>=2.13.0 in c:\\users\\viswa\\anaconda3\\envs\\cnnsmoker\\lib\\site-packages (from rich>=13.1.0->dagshub) (2.19.1)\n",
      "Requirement already satisfied: mdurl~=0.1 in c:\\users\\viswa\\anaconda3\\envs\\cnnsmoker\\lib\\site-packages (from markdown-it-py>=2.2.0->rich>=13.1.0->dagshub) (0.1.2)\n",
      "Requirement already satisfied: exceptiongroup>=1.0.2 in c:\\users\\viswa\\anaconda3\\envs\\cnnsmoker\\lib\\site-packages (from anyio->httpx>=0.23.0->dagshub) (1.3.0)\n",
      "Requirement already satisfied: sniffio>=1.1 in c:\\users\\viswa\\anaconda3\\envs\\cnnsmoker\\lib\\site-packages (from anyio->httpx>=0.23.0->dagshub) (1.3.1)\n",
      "Requirement already satisfied: botocore<1.39.0,>=1.38.35 in c:\\users\\viswa\\anaconda3\\envs\\cnnsmoker\\lib\\site-packages (from boto3->dagshub) (1.38.35)\n",
      "Requirement already satisfied: jmespath<2.0.0,>=0.7.1 in c:\\users\\viswa\\anaconda3\\envs\\cnnsmoker\\lib\\site-packages (from boto3->dagshub) (1.0.1)\n",
      "Requirement already satisfied: s3transfer<0.14.0,>=0.13.0 in c:\\users\\viswa\\anaconda3\\envs\\cnnsmoker\\lib\\site-packages (from boto3->dagshub) (0.13.0)\n",
      "Requirement already satisfied: marshmallow<4.0.0,>=3.18.0 in c:\\users\\viswa\\anaconda3\\envs\\cnnsmoker\\lib\\site-packages (from dataclasses-json->dagshub) (3.26.1)\n",
      "Requirement already satisfied: typing-inspect<1,>=0.4.0 in c:\\users\\viswa\\anaconda3\\envs\\cnnsmoker\\lib\\site-packages (from dataclasses-json->dagshub) (0.9.0)\n",
      "Requirement already satisfied: mypy-extensions>=0.3.0 in c:\\users\\viswa\\anaconda3\\envs\\cnnsmoker\\lib\\site-packages (from typing-inspect<1,>=0.4.0->dataclasses-json->dagshub) (1.1.0)\n",
      "Requirement already satisfied: graphql-core<3.2.7,>=3.2 in c:\\users\\viswa\\anaconda3\\envs\\cnnsmoker\\lib\\site-packages (from gql[requests]->dagshub) (3.2.6)\n",
      "Requirement already satisfied: yarl<2.0,>=1.6 in c:\\users\\viswa\\anaconda3\\envs\\cnnsmoker\\lib\\site-packages (from gql[requests]->dagshub) (1.20.1)\n",
      "Requirement already satisfied: backoff<3.0,>=1.11.1 in c:\\users\\viswa\\anaconda3\\envs\\cnnsmoker\\lib\\site-packages (from gql[requests]->dagshub) (2.2.1)\n",
      "Requirement already satisfied: requests-toolbelt<2,>=1.0.0 in c:\\users\\viswa\\anaconda3\\envs\\cnnsmoker\\lib\\site-packages (from gql[requests]->dagshub) (1.0.0)\n",
      "Requirement already satisfied: multidict>=4.0 in c:\\users\\viswa\\anaconda3\\envs\\cnnsmoker\\lib\\site-packages (from yarl<2.0,>=1.6->gql[requests]->dagshub) (6.4.4)\n",
      "Requirement already satisfied: propcache>=0.2.1 in c:\\users\\viswa\\anaconda3\\envs\\cnnsmoker\\lib\\site-packages (from yarl<2.0,>=1.6->gql[requests]->dagshub) (0.3.2)\n",
      "Note: you may need to restart the kernel to use updated packages.\n"
     ]
    }
   ],
   "source": [
    "pip install mlflow dagshub"
   ]
  },
  {
   "cell_type": "code",
   "execution_count": 8,
   "id": "af05b4cd",
   "metadata": {},
   "outputs": [
    {
     "data": {
      "text/html": [
       "<pre style=\"white-space:pre;overflow-x:auto;line-height:normal;font-family:Menlo,'DejaVu Sans Mono',consolas,'Courier New',monospace\">                                       <span style=\"font-weight: bold\">❗❗❗ AUTHORIZATION REQUIRED ❗❗❗</span>                                        \n",
       "</pre>\n"
      ],
      "text/plain": [
       "                                       \u001b[1m❗❗❗ AUTHORIZATION REQUIRED ❗❗❗\u001b[0m                                        \n"
      ]
     },
     "metadata": {},
     "output_type": "display_data"
    },
    {
     "data": {
      "text/html": [
       "<pre style=\"white-space:pre;overflow-x:auto;line-height:normal;font-family:Menlo,'DejaVu Sans Mono',consolas,'Courier New',monospace\">c:\\Users\\viswa\\anaconda3\\envs\\cnnsmoker\\lib\\site-packages\\rich\\live.py:231: UserWarning: install \"ipywidgets\" for \n",
       "Jupyter support\n",
       "  warnings.warn('install \"ipywidgets\" for Jupyter support')\n",
       "</pre>\n"
      ],
      "text/plain": [
       "c:\\Users\\viswa\\anaconda3\\envs\\cnnsmoker\\lib\\site-packages\\rich\\live.py:231: UserWarning: install \"ipywidgets\" for \n",
       "Jupyter support\n",
       "  warnings.warn('install \"ipywidgets\" for Jupyter support')\n"
      ]
     },
     "metadata": {},
     "output_type": "display_data"
    },
    {
     "name": "stdout",
     "output_type": "stream",
     "text": [
      "\n",
      "\n",
      "Open the following link in your browser to authorize the client:\n",
      "https://dagshub.com/login/oauth/authorize?state=2fef09da-8555-485c-9543-82c0bbbb62b0&client_id=32b60ba385aa7cecf24046d8195a71c07dd345d9657977863b52e7748e0f0f28&middleman_request_id=88fbcefc8cc670d474991cf30b97728fe09fb9ab9def30d52569698ad57d2300\n",
      "\n",
      "\n",
      "[2025-06-12 22:44:29,926: INFO: _client: HTTP Request: POST https://dagshub.com/login/oauth/middleman \"HTTP/1.1 200 OK\"]\n"
     ]
    },
    {
     "data": {
      "text/html": [
       "<pre style=\"white-space:pre;overflow-x:auto;line-height:normal;font-family:Menlo,'DejaVu Sans Mono',consolas,'Courier New',monospace\"></pre>\n"
      ],
      "text/plain": []
     },
     "metadata": {},
     "output_type": "display_data"
    },
    {
     "name": "stdout",
     "output_type": "stream",
     "text": [
      "[2025-06-12 22:44:35,660: INFO: _client: HTTP Request: POST https://dagshub.com/login/oauth/access_token \"HTTP/1.1 200 OK\"]\n",
      "[2025-06-12 22:44:39,718: INFO: _client: HTTP Request: GET https://dagshub.com/api/v1/user \"HTTP/1.1 200 OK\"]\n"
     ]
    },
    {
     "data": {
      "text/html": [
       "<pre style=\"white-space:pre;overflow-x:auto;line-height:normal;font-family:Menlo,'DejaVu Sans Mono',consolas,'Courier New',monospace\">Accessing as Viswa-Prakash\n",
       "</pre>\n"
      ],
      "text/plain": [
       "Accessing as Viswa-Prakash\n"
      ]
     },
     "metadata": {},
     "output_type": "display_data"
    },
    {
     "name": "stdout",
     "output_type": "stream",
     "text": [
      "[2025-06-12 22:44:39,749: INFO: helpers: Accessing as Viswa-Prakash]\n",
      "[2025-06-12 22:44:43,354: INFO: _client: HTTP Request: GET https://dagshub.com/api/v1/repos/Viswa-Prakash/Smoker-Image-Classification \"HTTP/1.1 200 OK\"]\n",
      "[2025-06-12 22:44:47,393: INFO: _client: HTTP Request: GET https://dagshub.com/api/v1/user \"HTTP/1.1 200 OK\"]\n"
     ]
    },
    {
     "data": {
      "text/html": [
       "<pre style=\"white-space:pre;overflow-x:auto;line-height:normal;font-family:Menlo,'DejaVu Sans Mono',consolas,'Courier New',monospace\">Initialized MLflow to track repo <span style=\"color: #008000; text-decoration-color: #008000\">\"Viswa-Prakash/Smoker-Image-Classification\"</span>\n",
       "</pre>\n"
      ],
      "text/plain": [
       "Initialized MLflow to track repo \u001b[32m\"Viswa-Prakash/Smoker-Image-Classification\"\u001b[0m\n"
      ]
     },
     "metadata": {},
     "output_type": "display_data"
    },
    {
     "name": "stdout",
     "output_type": "stream",
     "text": [
      "[2025-06-12 22:44:47,435: INFO: helpers: Initialized MLflow to track repo \"Viswa-Prakash/Smoker-Image-Classification\"]\n"
     ]
    },
    {
     "data": {
      "text/html": [
       "<pre style=\"white-space:pre;overflow-x:auto;line-height:normal;font-family:Menlo,'DejaVu Sans Mono',consolas,'Courier New',monospace\">Repository Viswa-Prakash/Smoker-Image-Classification initialized!\n",
       "</pre>\n"
      ],
      "text/plain": [
       "Repository Viswa-Prakash/Smoker-Image-Classification initialized!\n"
      ]
     },
     "metadata": {},
     "output_type": "display_data"
    },
    {
     "name": "stdout",
     "output_type": "stream",
     "text": [
      "[2025-06-12 22:44:47,471: INFO: helpers: Repository Viswa-Prakash/Smoker-Image-Classification initialized!]\n"
     ]
    }
   ],
   "source": [
    "import dagshub\n",
    "dagshub.init(repo_owner='Viswa-Prakash', repo_name='Smoker-Image-Classification', mlflow=True)\n"
   ]
  },
  {
   "cell_type": "code",
   "execution_count": 9,
   "id": "e02e3fd4",
   "metadata": {},
   "outputs": [],
   "source": [
    "import tensorflow as tf\n",
    "from pathlib import Path\n",
    "import mlflow\n",
    "import mlflow.keras\n",
    "from urllib.parse import urlparse"
   ]
  },
  {
   "cell_type": "code",
   "execution_count": 15,
   "id": "c3390a26",
   "metadata": {},
   "outputs": [],
   "source": [
    "class Evaluation:\n",
    "    def __init__(self, config: EvaluationConfig):\n",
    "        self.config = config\n",
    "\n",
    "    \n",
    "    def _valid_generator(self):\n",
    "\n",
    "        datagenerator_kwargs = dict(\n",
    "            rescale = 1./255,\n",
    "            validation_split=0.30\n",
    "        )\n",
    "\n",
    "        dataflow_kwargs = dict(\n",
    "            target_size=self.config.params_image_size[:-1],\n",
    "            batch_size=self.config.params_batch_size,\n",
    "            interpolation=\"bilinear\"\n",
    "        )\n",
    "\n",
    "        valid_datagenerator = tf.keras.preprocessing.image.ImageDataGenerator(\n",
    "            **datagenerator_kwargs\n",
    "        )\n",
    "\n",
    "        self.valid_generator = valid_datagenerator.flow_from_directory(\n",
    "            directory=self.config.training_data,\n",
    "            subset=\"validation\",\n",
    "            shuffle=False,\n",
    "            **dataflow_kwargs\n",
    "        )\n",
    "\n",
    "\n",
    "    @staticmethod\n",
    "    def load_model(path: Path) -> tf.keras.Model:\n",
    "        return tf.keras.models.load_model(path)\n",
    "    \n",
    "\n",
    "    def evaluation(self):\n",
    "        self.model = self.load_model(self.config.path_of_model)\n",
    "        self._valid_generator()\n",
    "        self.score = model.evaluate(self.valid_generator)\n",
    "        self.save_score()\n",
    "\n",
    "    def save_score(self):\n",
    "        scores = {\"loss\": self.score[0], \"accuracy\": self.score[1]}\n",
    "        save_json(path=Path(\"scores.json\"), data=scores)\n",
    "\n",
    "    \n",
    "    def log_into_mlflow(self):\n",
    "        mlflow.set_registry_uri(self.config.mlflow_uri)\n",
    "        tracking_url_type_store = urlparse(mlflow.get_tracking_uri()).scheme\n",
    "        \n",
    "        with mlflow.start_run():\n",
    "            mlflow.log_params(self.config.all_params)\n",
    "            mlflow.log_metrics(\n",
    "                {\"loss\": self.score[0], \"accuracy\": self.score[1]}\n",
    "            )\n",
    "            # Model registry does not work with file store\n",
    "            if tracking_url_type_store != \"file\":\n",
    "\n",
    "                # Register the model\n",
    "                # There are other ways to use the Model Registry, which depends on the use case,\n",
    "                # please refer to the doc for more information:\n",
    "                # https://mlflow.org/docs/latest/model-registry.html#api-workflow\n",
    "                mlflow.keras.log_model(self.model, \"model\", registered_model_name=\"VGG16Model\")\n",
    "            else:\n",
    "                mlflow.keras.log_model(self.model, \"model\")"
   ]
  },
  {
   "cell_type": "code",
   "execution_count": 16,
   "id": "ef96c3ac",
   "metadata": {},
   "outputs": [
    {
     "name": "stdout",
     "output_type": "stream",
     "text": [
      "[2025-06-12 22:52:13,205: INFO: common: yaml file: config\\config.yaml loaded successfully]\n",
      "[2025-06-12 22:52:13,228: INFO: common: yaml file: params.yaml loaded successfully]\n",
      "[2025-06-12 22:52:13,235: INFO: common: created directory at: artifacts]\n"
     ]
    },
    {
     "name": "stdout",
     "output_type": "stream",
     "text": [
      "Found 214 images belonging to 2 classes.\n",
      "14/14 [==============================] - 236s 17s/step - loss: 2.4155 - accuracy: 0.5607\n",
      "[2025-06-12 22:56:39,349: INFO: common: json file saved at: scores.json]\n"
     ]
    },
    {
     "name": "stderr",
     "output_type": "stream",
     "text": [
      "2025/06/12 22:56:40 WARNING mlflow.tensorflow: You are saving a TensorFlow Core model or Keras model without a signature. Inference with mlflow.pyfunc.spark_udf() will not work unless the model's pyfunc representation accepts pandas DataFrames as inference inputs.\n"
     ]
    },
    {
     "name": "stdout",
     "output_type": "stream",
     "text": [
      "[2025-06-12 22:56:41,926: WARNING: save: Found untraced functions such as _jit_compiled_convolution_op, _jit_compiled_convolution_op, _jit_compiled_convolution_op, _jit_compiled_convolution_op, _jit_compiled_convolution_op while saving (showing 5 of 14). These functions will not be directly callable after loading.]\n",
      "INFO:tensorflow:Assets written to: C:\\Users\\viswa\\AppData\\Local\\Temp\\tmpwandezhk\\model\\data\\model\\assets\n",
      "[2025-06-12 22:56:42,706: INFO: builder_impl: Assets written to: C:\\Users\\viswa\\AppData\\Local\\Temp\\tmpwandezhk\\model\\data\\model\\assets]\n"
     ]
    },
    {
     "name": "stderr",
     "output_type": "stream",
     "text": [
      "c:\\Users\\viswa\\anaconda3\\envs\\cnnsmoker\\lib\\site-packages\\_distutils_hack\\__init__.py:30: UserWarning: Setuptools is replacing distutils. Support for replacing an already imported distutils is deprecated. In the future, this condition will fail. Register concerns at https://github.com/pypa/setuptools/issues/new?template=distutils-deprecation.yml\n",
      "  warnings.warn(\n",
      "Successfully registered model 'VGG16Model'.\n",
      "2025/06/12 22:57:40 INFO mlflow.tracking._model_registry.client: Waiting up to 300 seconds for model version to finish creation.                     Model name: VGG16Model, version 1\n",
      "Created version '1' of model 'VGG16Model'.\n"
     ]
    }
   ],
   "source": [
    "try:\n",
    "    config = ConfigurationManager()\n",
    "    eval_config = config.get_evaluation_config()\n",
    "    evaluation = Evaluation(eval_config)\n",
    "    evaluation.evaluation()\n",
    "    evaluation.log_into_mlflow()\n",
    "\n",
    "except Exception as e:\n",
    "   raise e"
   ]
  },
  {
   "cell_type": "code",
   "execution_count": null,
   "id": "893a8b94",
   "metadata": {},
   "outputs": [],
   "source": []
  }
 ],
 "metadata": {
  "kernelspec": {
   "display_name": "cnnsmoker",
   "language": "python",
   "name": "python3"
  },
  "language_info": {
   "codemirror_mode": {
    "name": "ipython",
    "version": 3
   },
   "file_extension": ".py",
   "mimetype": "text/x-python",
   "name": "python",
   "nbconvert_exporter": "python",
   "pygments_lexer": "ipython3",
   "version": "3.10.18"
  }
 },
 "nbformat": 4,
 "nbformat_minor": 5
}
